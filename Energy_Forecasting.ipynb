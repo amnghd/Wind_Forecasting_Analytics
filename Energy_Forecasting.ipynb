{
 "cells": [
  {
   "cell_type": "markdown",
   "metadata": {},
   "source": [
    "# Wind Energy Forecaseting\n",
    "\n",
    "The goal of this notebook is to perform the energy forecasting for the [\"Global Energy Forecasting Competition 2012\" ](https://www.kaggle.com/c/GEF2012-wind-forecasting).\n",
    "\n",
    "\"This competition is deveoped to mimic the operation 48-hour ahead prediction of hourly power generation. This is performed for 7 wind farms. The data being used for this competition are historical measurements and additional wind forecast information (48-hour ahead predictions of wind speed and direction at the sites). The data is available for period ranging from the 1st hour of 2009/7/1 to the 12th hour of 2012/6/28.\" [ref](https://www.kaggle.com/c/GEF2012-wind-forecasting)\n",
    "\n",
    "\n",
    "### Package Import"
   ]
  },
  {
   "cell_type": "code",
   "execution_count": 1,
   "metadata": {
    "collapsed": true
   },
   "outputs": [],
   "source": [
    "%matplotlib inline\n",
    "import pandas as pd\n",
    "import numpy as np\n",
    "import matplotlib.pyplot as plt\n",
    "import re\n",
    "import glob\n",
    "import math\n",
    "import seaborn as sns\n",
    "from sklearn.model_selection import train_test_split\n",
    "from sklearn.neighbors import KNeighborsRegressor\n",
    "from sklearn.model_selection import cross_val_score\n",
    "from scipy import stats\n",
    "sns.set(style='whitegrid', context='notebook')"
   ]
  },
  {
   "cell_type": "markdown",
   "metadata": {},
   "source": [
    "### Data Import and Organizing\n",
    "\n",
    "We are going to first import the energy dataset. It will read the train dataset and generate the following columns:\n",
    "\n",
    "- datetime index\n",
    "- wind power\n",
    "- hour\n",
    "- month\n",
    "- year\n",
    "- farm number\n",
    "\n",
    "It is noted that this dataset contains historical data for each wind farm for each "
   ]
  },
  {
   "cell_type": "code",
   "execution_count": 2,
   "metadata": {
    "collapsed": true
   },
   "outputs": [],
   "source": [
    "energy = pd.read_csv('train.csv')\n",
    "\n",
    "energy['hour'] = energy['date'].apply(lambda x: str(x)[-2:]) # extracting hour\n",
    "energy['month'] = energy['date'].apply(lambda x: str(x)[4:6]) # extracting month\n",
    "energy['year'] = energy['date'].apply(lambda x: str(x)[:4]) # extracting year\n",
    "energy.date = pd.to_datetime(energy.date, format='%Y%m%d%H', errors='ignore')\n",
    "\n",
    "\n",
    "energy = pd.melt(frame = energy, id_vars =['date','hour','month', 'year'] ,value_vars =['wp1','wp2','wp3','wp4','wp5','wp6','wp7'], var_name = 'farm', value_name='power' )\n",
    "energy.farm = energy.farm.apply(lambda x: int(x[2:]))\n",
    "energy.set_index('date', inplace=True) # we generate a datetime series from the data"
   ]
  },
  {
   "cell_type": "code",
   "execution_count": 3,
   "metadata": {
    "collapsed": false
   },
   "outputs": [
    {
     "data": {
      "text/html": [
       "<div>\n",
       "<style scoped>\n",
       "    .dataframe tbody tr th:only-of-type {\n",
       "        vertical-align: middle;\n",
       "    }\n",
       "\n",
       "    .dataframe tbody tr th {\n",
       "        vertical-align: top;\n",
       "    }\n",
       "\n",
       "    .dataframe thead th {\n",
       "        text-align: right;\n",
       "    }\n",
       "</style>\n",
       "<table border=\"1\" class=\"dataframe\">\n",
       "  <thead>\n",
       "    <tr style=\"text-align: right;\">\n",
       "      <th></th>\n",
       "      <th>farm</th>\n",
       "      <th>power</th>\n",
       "    </tr>\n",
       "  </thead>\n",
       "  <tbody>\n",
       "    <tr>\n",
       "      <th>count</th>\n",
       "      <td>131299.000000</td>\n",
       "      <td>131299.000000</td>\n",
       "    </tr>\n",
       "    <tr>\n",
       "      <th>mean</th>\n",
       "      <td>4.000000</td>\n",
       "      <td>0.284145</td>\n",
       "    </tr>\n",
       "    <tr>\n",
       "      <th>std</th>\n",
       "      <td>2.000008</td>\n",
       "      <td>0.289788</td>\n",
       "    </tr>\n",
       "    <tr>\n",
       "      <th>min</th>\n",
       "      <td>1.000000</td>\n",
       "      <td>0.000000</td>\n",
       "    </tr>\n",
       "    <tr>\n",
       "      <th>25%</th>\n",
       "      <td>2.000000</td>\n",
       "      <td>0.040000</td>\n",
       "    </tr>\n",
       "    <tr>\n",
       "      <th>50%</th>\n",
       "      <td>4.000000</td>\n",
       "      <td>0.178000</td>\n",
       "    </tr>\n",
       "    <tr>\n",
       "      <th>75%</th>\n",
       "      <td>6.000000</td>\n",
       "      <td>0.455000</td>\n",
       "    </tr>\n",
       "    <tr>\n",
       "      <th>max</th>\n",
       "      <td>7.000000</td>\n",
       "      <td>0.992000</td>\n",
       "    </tr>\n",
       "  </tbody>\n",
       "</table>\n",
       "</div>"
      ],
      "text/plain": [
       "                farm          power\n",
       "count  131299.000000  131299.000000\n",
       "mean        4.000000       0.284145\n",
       "std         2.000008       0.289788\n",
       "min         1.000000       0.000000\n",
       "25%         2.000000       0.040000\n",
       "50%         4.000000       0.178000\n",
       "75%         6.000000       0.455000\n",
       "max         7.000000       0.992000"
      ]
     },
     "execution_count": 3,
     "metadata": {},
     "output_type": "execute_result"
    }
   ],
   "source": [
    "energy.describe()"
   ]
  },
  {
   "cell_type": "code",
   "execution_count": 4,
   "metadata": {
    "collapsed": false
   },
   "outputs": [
    {
     "name": "stdout",
     "output_type": "stream",
     "text": [
      "<class 'pandas.core.frame.DataFrame'>\n",
      "DatetimeIndex: 131299 entries, 2009-07-01 00:00:00 to 2012-06-26 12:00:00\n",
      "Data columns (total 5 columns):\n",
      "hour     131299 non-null object\n",
      "month    131299 non-null object\n",
      "year     131299 non-null object\n",
      "farm     131299 non-null int64\n",
      "power    131299 non-null float64\n",
      "dtypes: float64(1), int64(1), object(3)\n",
      "memory usage: 6.0+ MB\n"
     ]
    }
   ],
   "source": [
    "energy.info()"
   ]
  },
  {
   "cell_type": "markdown",
   "metadata": {},
   "source": [
    "The following demonstrates the mean power generation over several years for all farms."
   ]
  },
  {
   "cell_type": "code",
   "execution_count": 5,
   "metadata": {
    "collapsed": false
   },
   "outputs": [
    {
     "data": {
      "image/png": "[encoded data removed]",
      "text/plain": [
       "<Figure size 576x396 with 1 Axes>"
      ]
     },
     "metadata": {},
     "output_type": "display_data"
    }
   ],
   "source": [
    "# Let's see how the energy over a year\n",
    "energy.loc['2011', 'power'].resample('M').mean().plot(title = 'Energy Generation over the whole period' , color = 'gold')\n",
    "plt.show()"
   ]
  },
  {
   "cell_type": "markdown",
   "metadata": {},
   "source": [
    "## Forecast data\n",
    "\n",
    "For each farm, one CSV file is provided that contains 48 hours forecasting of wind speed and wind direction.\n",
    "\n",
    "First let's get the datetime of the prediction, and the actual time and also the farm number into the data set."
   ]
  },
  {
   "cell_type": "code",
   "execution_count": 6,
   "metadata": {
    "collapsed": true
   },
   "outputs": [],
   "source": [
    "pattern = 'windforecasts*.csv'\n",
    "csv_files = glob.glob(pattern) # allows importing file name for wild cards\n",
    "forecast = list()\n",
    "for indx, file in enumerate(csv_files):\n",
    "    temp_df = pd.read_csv(file)\n",
    "    temp_df ['farm'] = indx + 1\n",
    "    temp_df['date'] = pd.to_datetime(temp_df.date, format='%Y%m%d%H')\n",
    "    temp_df.rename(columns = {'date':'start', 'hors':'dist'}, inplace= True)\n",
    "    temp_df['date'] = temp_df.start + pd.to_timedelta(temp_df.dist, unit='h')\n",
    "    temp_df.set_index('date', inplace=True)\n",
    "    forecast.append(temp_df)"
   ]
  },
  {
   "cell_type": "markdown",
   "metadata": {},
   "source": [
    "Now, we will concatanate the dataframes."
   ]
  },
  {
   "cell_type": "code",
   "execution_count": 7,
   "metadata": {
    "collapsed": false
   },
   "outputs": [
    {
     "data": {
      "text/html": [
       "<div>\n",
       "<style scoped>\n",
       "    .dataframe tbody tr th:only-of-type {\n",
       "        vertical-align: middle;\n",
       "    }\n",
       "\n",
       "    .dataframe tbody tr th {\n",
       "        vertical-align: top;\n",
       "    }\n",
       "\n",
       "    .dataframe thead th {\n",
       "        text-align: right;\n",
       "    }\n",
       "</style>\n",
       "<table border=\"1\" class=\"dataframe\">\n",
       "  <thead>\n",
       "    <tr style=\"text-align: right;\">\n",
       "      <th></th>\n",
       "      <th>start</th>\n",
       "      <th>dist</th>\n",
       "      <th>u</th>\n",
       "      <th>v</th>\n",
       "      <th>ws</th>\n",
       "      <th>wd</th>\n",
       "      <th>farm</th>\n",
       "    </tr>\n",
       "    <tr>\n",
       "      <th>date</th>\n",
       "      <th></th>\n",
       "      <th></th>\n",
       "      <th></th>\n",
       "      <th></th>\n",
       "      <th></th>\n",
       "      <th></th>\n",
       "      <th></th>\n",
       "    </tr>\n",
       "  </thead>\n",
       "  <tbody>\n",
       "    <tr>\n",
       "      <th>2009-07-01 01:00:00</th>\n",
       "      <td>2009-07-01</td>\n",
       "      <td>1</td>\n",
       "      <td>2.34</td>\n",
       "      <td>-0.79</td>\n",
       "      <td>2.47</td>\n",
       "      <td>108.68</td>\n",
       "      <td>1</td>\n",
       "    </tr>\n",
       "    <tr>\n",
       "      <th>2009-07-01 02:00:00</th>\n",
       "      <td>2009-07-01</td>\n",
       "      <td>2</td>\n",
       "      <td>2.18</td>\n",
       "      <td>-0.99</td>\n",
       "      <td>2.40</td>\n",
       "      <td>114.31</td>\n",
       "      <td>1</td>\n",
       "    </tr>\n",
       "    <tr>\n",
       "      <th>2009-07-01 03:00:00</th>\n",
       "      <td>2009-07-01</td>\n",
       "      <td>3</td>\n",
       "      <td>2.20</td>\n",
       "      <td>-1.21</td>\n",
       "      <td>2.51</td>\n",
       "      <td>118.71</td>\n",
       "      <td>1</td>\n",
       "    </tr>\n",
       "    <tr>\n",
       "      <th>2009-07-01 04:00:00</th>\n",
       "      <td>2009-07-01</td>\n",
       "      <td>4</td>\n",
       "      <td>2.35</td>\n",
       "      <td>-1.40</td>\n",
       "      <td>2.73</td>\n",
       "      <td>120.86</td>\n",
       "      <td>1</td>\n",
       "    </tr>\n",
       "    <tr>\n",
       "      <th>2009-07-01 05:00:00</th>\n",
       "      <td>2009-07-01</td>\n",
       "      <td>5</td>\n",
       "      <td>2.53</td>\n",
       "      <td>-1.47</td>\n",
       "      <td>2.93</td>\n",
       "      <td>120.13</td>\n",
       "      <td>1</td>\n",
       "    </tr>\n",
       "  </tbody>\n",
       "</table>\n",
       "</div>"
      ],
      "text/plain": [
       "                         start  dist     u     v    ws      wd  farm\n",
       "date                                                                \n",
       "2009-07-01 01:00:00 2009-07-01     1  2.34 -0.79  2.47  108.68     1\n",
       "2009-07-01 02:00:00 2009-07-01     2  2.18 -0.99  2.40  114.31     1\n",
       "2009-07-01 03:00:00 2009-07-01     3  2.20 -1.21  2.51  118.71     1\n",
       "2009-07-01 04:00:00 2009-07-01     4  2.35 -1.40  2.73  120.86     1\n",
       "2009-07-01 05:00:00 2009-07-01     5  2.53 -1.47  2.93  120.13     1"
      ]
     },
     "execution_count": 7,
     "metadata": {},
     "output_type": "execute_result"
    }
   ],
   "source": [
    "single_forecast = pd.concat(forecast)\n",
    "single_forecast.head()"
   ]
  },
  {
   "cell_type": "markdown",
   "metadata": {},
   "source": [
    "### Joining Energy and Forecast Datasets\n",
    "\n",
    "We will join the two data sets and look at their correlations and perform some EDA on data."
   ]
  },
  {
   "cell_type": "code",
   "execution_count": 8,
   "metadata": {
    "collapsed": false
   },
   "outputs": [
    {
     "data": {
      "text/html": [
       "<div>\n",
       "<style scoped>\n",
       "    .dataframe tbody tr th:only-of-type {\n",
       "        vertical-align: middle;\n",
       "    }\n",
       "\n",
       "    .dataframe tbody tr th {\n",
       "        vertical-align: top;\n",
       "    }\n",
       "\n",
       "    .dataframe thead th {\n",
       "        text-align: right;\n",
       "    }\n",
       "</style>\n",
       "<table border=\"1\" class=\"dataframe\">\n",
       "  <thead>\n",
       "    <tr style=\"text-align: right;\">\n",
       "      <th></th>\n",
       "      <th>dist</th>\n",
       "      <th>u</th>\n",
       "      <th>v</th>\n",
       "      <th>ws</th>\n",
       "      <th>wd</th>\n",
       "      <th>farm</th>\n",
       "      <th>power</th>\n",
       "    </tr>\n",
       "  </thead>\n",
       "  <tbody>\n",
       "    <tr>\n",
       "      <th>count</th>\n",
       "      <td>733824.000000</td>\n",
       "      <td>655704.000000</td>\n",
       "      <td>655704.000000</td>\n",
       "      <td>655704.000000</td>\n",
       "      <td>655704.000000</td>\n",
       "      <td>733824.000000</td>\n",
       "      <td>524664.000000</td>\n",
       "    </tr>\n",
       "    <tr>\n",
       "      <th>mean</th>\n",
       "      <td>24.500000</td>\n",
       "      <td>1.162191</td>\n",
       "      <td>-0.052091</td>\n",
       "      <td>4.616505</td>\n",
       "      <td>155.373093</td>\n",
       "      <td>4.000000</td>\n",
       "      <td>0.284399</td>\n",
       "    </tr>\n",
       "    <tr>\n",
       "      <th>std</th>\n",
       "      <td>13.853409</td>\n",
       "      <td>3.378194</td>\n",
       "      <td>3.720165</td>\n",
       "      <td>2.300665</td>\n",
       "      <td>100.380787</td>\n",
       "      <td>2.000001</td>\n",
       "      <td>0.289817</td>\n",
       "    </tr>\n",
       "    <tr>\n",
       "      <th>min</th>\n",
       "      <td>1.000000</td>\n",
       "      <td>-14.600000</td>\n",
       "      <td>-15.360000</td>\n",
       "      <td>0.010000</td>\n",
       "      <td>0.000000</td>\n",
       "      <td>1.000000</td>\n",
       "      <td>0.000000</td>\n",
       "    </tr>\n",
       "    <tr>\n",
       "      <th>25%</th>\n",
       "      <td>12.750000</td>\n",
       "      <td>-1.180000</td>\n",
       "      <td>-2.760000</td>\n",
       "      <td>2.950000</td>\n",
       "      <td>71.800000</td>\n",
       "      <td>2.000000</td>\n",
       "      <td>0.040000</td>\n",
       "    </tr>\n",
       "    <tr>\n",
       "      <th>50%</th>\n",
       "      <td>24.500000</td>\n",
       "      <td>1.260000</td>\n",
       "      <td>-0.160000</td>\n",
       "      <td>4.220000</td>\n",
       "      <td>140.650000</td>\n",
       "      <td>4.000000</td>\n",
       "      <td>0.178000</td>\n",
       "    </tr>\n",
       "    <tr>\n",
       "      <th>75%</th>\n",
       "      <td>36.250000</td>\n",
       "      <td>3.330000</td>\n",
       "      <td>2.630000</td>\n",
       "      <td>5.920000</td>\n",
       "      <td>226.540000</td>\n",
       "      <td>6.000000</td>\n",
       "      <td>0.455000</td>\n",
       "    </tr>\n",
       "    <tr>\n",
       "      <th>max</th>\n",
       "      <td>48.000000</td>\n",
       "      <td>16.780000</td>\n",
       "      <td>16.640000</td>\n",
       "      <td>16.960000</td>\n",
       "      <td>360.000000</td>\n",
       "      <td>7.000000</td>\n",
       "      <td>0.992000</td>\n",
       "    </tr>\n",
       "  </tbody>\n",
       "</table>\n",
       "</div>"
      ],
      "text/plain": [
       "                dist              u              v             ws  \\\n",
       "count  733824.000000  655704.000000  655704.000000  655704.000000   \n",
       "mean       24.500000       1.162191      -0.052091       4.616505   \n",
       "std        13.853409       3.378194       3.720165       2.300665   \n",
       "min         1.000000     -14.600000     -15.360000       0.010000   \n",
       "25%        12.750000      -1.180000      -2.760000       2.950000   \n",
       "50%        24.500000       1.260000      -0.160000       4.220000   \n",
       "75%        36.250000       3.330000       2.630000       5.920000   \n",
       "max        48.000000      16.780000      16.640000      16.960000   \n",
       "\n",
       "                  wd           farm          power  \n",
       "count  655704.000000  733824.000000  524664.000000  \n",
       "mean      155.373093       4.000000       0.284399  \n",
       "std       100.380787       2.000001       0.289817  \n",
       "min         0.000000       1.000000       0.000000  \n",
       "25%        71.800000       2.000000       0.040000  \n",
       "50%       140.650000       4.000000       0.178000  \n",
       "75%       226.540000       6.000000       0.455000  \n",
       "max       360.000000       7.000000       0.992000  "
      ]
     },
     "execution_count": 8,
     "metadata": {},
     "output_type": "execute_result"
    }
   ],
   "source": [
    "whole_data = pd.merge(single_forecast.reset_index(), energy.reset_index(),\n",
    "                      how = 'left', on = ['date','farm'])\n",
    "whole_data.describe()"
   ]
  },
  {
   "cell_type": "code",
   "execution_count": 9,
   "metadata": {
    "collapsed": false
   },
   "outputs": [
    {
     "name": "stderr",
     "output_type": "stream",
     "text": [
      "C:\\Anaconda3\\lib\\site-packages\\seaborn\\categorical.py:454: FutureWarning: remove_na is deprecated and is a private function. Do not use.\n",
      "  box_data = remove_na(group_data)\n"
     ]
    },
    {
     "data": {
      "image/png": "[encoded data removed]",
      "text/plain": [
       "<Figure size 576x396 with 1 Axes>"
      ]
     },
     "metadata": {},
     "output_type": "display_data"
    }
   ],
   "source": [
    "sns.boxplot(x=\"farm\", y=\"power\", data= whole_data.dropna())\n",
    "plt.show()"
   ]
  },
  {
   "cell_type": "markdown",
   "metadata": {},
   "source": [
    "Different farms seem to have different average wind powers."
   ]
  },
  {
   "cell_type": "code",
   "execution_count": null,
   "metadata": {
    "collapsed": false
   },
   "outputs": [
    {
     "name": "stderr",
     "output_type": "stream",
     "text": [
      "C:\\Anaconda3\\lib\\site-packages\\matplotlib\\axes\\_axes.py:6448: UserWarning: The 'normed' kwarg is deprecated, and has been replaced by the 'density' kwarg.\n",
      "  warnings.warn(\"The 'normed' kwarg is deprecated, and has been \"\n"
     ]
    },
    {
     "data": {
      "image/png": "[encoded data removed]",
      "text/plain": [
       "<Figure size 576x396 with 1 Axes>"
      ]
     },
     "metadata": {},
     "output_type": "display_data"
    }
   ],
   "source": [
    "plt.hist(whole_data.dropna().power, normed = True, alpha = 0.3)\n",
    "whole_data.dropna().power.plot.kde()\n",
    "plt.xlabel('Normalized Power of all Farms')\n",
    "plt.ylabel('Histogram and Kernel Density')\n",
    "plt.show()"
   ]
  },
  {
   "cell_type": "markdown",
   "metadata": {},
   "source": [
    "It is clear that most of the time wind turbines are not working around their rating. We can now check the relationship between wind speed and wind power."
   ]
  },
  {
   "cell_type": "code",
   "execution_count": null,
   "metadata": {
    "collapsed": false
   },
   "outputs": [],
   "source": [
    "data = whole_data.dropna().sample(100000)\n",
    "plt.scatter(data.ws, data.power, c = data.farm, cmap=plt.cm.brg, alpha = .08)\n",
    "plt.xlabel('Wind Speed')\n",
    "plt.ylabel('Normalized Power')\n",
    "plt.legend()\n",
    "plt.show()"
   ]
  },
  {
   "cell_type": "markdown",
   "metadata": {},
   "source": [
    "There is an obvious relationship between wind speed and normalized power. Also there is an obvious difference between different farms."
   ]
  },
  {
   "cell_type": "code",
   "execution_count": null,
   "metadata": {
    "collapsed": false
   },
   "outputs": [],
   "source": [
    "plt.scatter(data.wd, data.power, c = data.farm, cmap=plt.cm.jet, alpha = .024)\n",
    "plt.xlabel('Wind Direction')\n",
    "plt.ylabel('Normalized Power')\n",
    "plt.legend()\n",
    "plt.show()"
   ]
  },
  {
   "cell_type": "markdown",
   "metadata": {},
   "source": [
    "We can vaguley see that each farm has a couple of dominant direction, which is intuitive. Each location will have some dominant wind. We might use this informaiton later in our feature engineering section. "
   ]
  },
  {
   "cell_type": "markdown",
   "metadata": {},
   "source": [
    "### Last day point\n",
    "\n",
    "We want to see what is the profile of the power 24 hours or 48 hours before the prediction. This might carry some information about the power output of the next day exactly at the same time. For example, assume we are predicting power for tomorrow at 3:00pm from today at 10:00 pm. If we can go back 7 hours, we will have one day difference with the predicted value."
   ]
  },
  {
   "cell_type": "code",
   "execution_count": null,
   "metadata": {
    "collapsed": false
   },
   "outputs": [],
   "source": [
    "date_power = whole_data[['date','dist','power','farm']]"
   ]
  },
  {
   "cell_type": "code",
   "execution_count": null,
   "metadata": {
    "collapsed": false
   },
   "outputs": [],
   "source": [
    "farm_date_power = whole_data[['date','farm','power']]"
   ]
  },
  {
   "cell_type": "code",
   "execution_count": null,
   "metadata": {
    "collapsed": false
   },
   "outputs": [],
   "source": [
    "date_power['last_day'] = date_power.dist.apply(lambda x: 24 if 0<x<24 else 48)\n",
    "date_power.head()"
   ]
  },
  {
   "cell_type": "code",
   "execution_count": null,
   "metadata": {
    "collapsed": false
   },
   "outputs": [],
   "source": [
    "date_power['date_last_day'] = date_power.date - pd.to_timedelta(date_power['last_day'], unit='h')\n",
    "date_power.head()"
   ]
  },
  {
   "cell_type": "code",
   "execution_count": null,
   "metadata": {
    "collapsed": false
   },
   "outputs": [],
   "source": [
    "date_power_1 = date_power.merge(farm_date_power, left_on =['date_last_day','farm'], right_on =['date','farm'], how = 'left', suffixes=['','last_day'] )\n",
    "date_power_1.iloc[10000:10004]"
   ]
  },
  {
   "cell_type": "code",
   "execution_count": null,
   "metadata": {
    "collapsed": false
   },
   "outputs": [],
   "source": [
    "date_power_1_sample = date_power_1.sample(100000)\n",
    "plt.scatter(date_power_1_sample.loc[date_power_1_sample.farm==1].powerlast_day,\n",
    "            date_power_1_sample.loc[date_power_1_sample.farm==1].power, color = 'darkgoldenrod',\n",
    "           alpha = 0.15)\n",
    "plt.xlabel('24/28 hours earlier power')\n",
    "plt.ylabel('predicted power')\n",
    "plt.show()"
   ]
  },
  {
   "cell_type": "code",
   "execution_count": null,
   "metadata": {
    "collapsed": false
   },
   "outputs": [],
   "source": [
    "date_power_1.loc[date_power_1.farm==1].powerlast_day.corr(date_power_1.loc[date_power_1.farm==1].power)"
   ]
  },
  {
   "cell_type": "markdown",
   "metadata": {},
   "source": [
    "### Last three hours profile\n",
    "\n",
    "We want to see what is the profile of the power for the last 3 hours before each prediction. We like to get the moving average of the previous 3 hours power at the point of prediction. We will see that around $10\\%$ of the variance is explained through this variable which makes it acceptable to be included in the feature_set."
   ]
  },
  {
   "cell_type": "code",
   "execution_count": null,
   "metadata": {
    "collapsed": true
   },
   "outputs": [],
   "source": [
    "power_each_farm = pd.read_csv('train.csv') #getting the power for each farm\n",
    "power_each_farm.date = pd.to_datetime(power_each_farm.date, format='%Y%m%d%H', errors='ignore')\n",
    "power_each_farm.set_index('date', inplace=True)\n",
    "power_each_farm_smoothed = power_each_farm.rolling(window=3).mean()\n",
    "power_each_farm_smoothed.fillna(method='bfill',inplace=True)"
   ]
  },
  {
   "cell_type": "code",
   "execution_count": null,
   "metadata": {
    "collapsed": true
   },
   "outputs": [],
   "source": [
    "profile_power = pd.melt(frame = power_each_farm_smoothed.reset_index(), id_vars =['date'] ,value_vars =['wp1','wp2','wp3','wp4','wp5','wp6','wp7'], var_name = 'farm', value_name='power_profile' )\n",
    "profile_power.farm = profile_power.farm.apply(lambda x: int(x[2:]))"
   ]
  },
  {
   "cell_type": "code",
   "execution_count": null,
   "metadata": {
    "collapsed": false
   },
   "outputs": [],
   "source": [
    "profile_power.rename(columns={\"date\": \"start\"},inplace=True)\n",
    "profile_power.head()"
   ]
  },
  {
   "cell_type": "code",
   "execution_count": null,
   "metadata": {
    "collapsed": false
   },
   "outputs": [],
   "source": [
    "whole_data = whole_data.merge(profile_power, how='left', left_on = ['start','farm'], right_on = ['start','farm'])"
   ]
  },
  {
   "cell_type": "code",
   "execution_count": null,
   "metadata": {
    "collapsed": false
   },
   "outputs": [],
   "source": [
    "plt.scatter(whole_data.loc[whole_data.farm==1].power_profile,\n",
    "            whole_data.loc[whole_data.farm==1].power, color = 'steelblue',\n",
    "           alpha = 0.0075)\n",
    "plt.xlabel('power profile past 3 hours')\n",
    "plt.ylabel('predicted power')\n",
    "plt.show()"
   ]
  },
  {
   "cell_type": "code",
   "execution_count": null,
   "metadata": {
    "collapsed": false
   },
   "outputs": [],
   "source": [
    "whole_data.loc[whole_data.farm==1].power_profile.corr(whole_data.loc[whole_data.farm==1].power)"
   ]
  },
  {
   "cell_type": "markdown",
   "metadata": {},
   "source": [
    "Let's also include the last day feature to our feature set."
   ]
  },
  {
   "cell_type": "code",
   "execution_count": null,
   "metadata": {
    "collapsed": false
   },
   "outputs": [],
   "source": [
    "whole_data = whole_data.merge(date_power_1[['date','farm','powerlast_day']], on = ['date','farm'], how='left')\n",
    "whole_data.iloc[1000:1004]"
   ]
  },
  {
   "cell_type": "markdown",
   "metadata": {},
   "source": [
    "### EDA on wind speed and wind direction:\n",
    "\n",
    "Before finalizing the train/test set, let's take a look at the information we might bea belt to get from the wind speed/wind direction."
   ]
  },
  {
   "cell_type": "code",
   "execution_count": null,
   "metadata": {
    "collapsed": false
   },
   "outputs": [],
   "source": [
    "wind_list = ['date','dist', 'u','v','ws','wd','farm', 'power']\n",
    "wind = whole_data[wind_list]\n",
    "wind.head()"
   ]
  },
  {
   "cell_type": "markdown",
   "metadata": {},
   "source": [
    "We know that the zonal(``u``) and meridional(``v``) components are directly connected to the wind speed (``ws``) and wind direction (``wd``). Let's study that and see if we can potentially drop a few redundunt features.. "
   ]
  },
  {
   "cell_type": "code",
   "execution_count": null,
   "metadata": {
    "collapsed": false
   },
   "outputs": [],
   "source": [
    "wind['calculated_ws'] = np.sqrt(wind.u**2+wind.v**2)\n",
    "plt.scatter(wind.calculated_ws, wind.ws, alpha= 0.009, color = 'blue')\n",
    "plt.show()\n",
    "plt.xlabel('calculated wind speed')\n",
    "plt.ylabel('wind speed')\n",
    "plt.show()"
   ]
  },
  {
   "cell_type": "code",
   "execution_count": null,
   "metadata": {
    "collapsed": false
   },
   "outputs": [],
   "source": [
    "wind['calculated_ratio'] = (wind.u/wind.v)\n",
    "plt.scatter(wind.calculated_ratio, wind.wd, alpha= 0.009, color = 'red')\n",
    "plt.show()\n",
    "plt.xlabel('calculated wind ratio')\n",
    "plt.ylabel('wind direction')\n",
    "plt.show()"
   ]
  },
  {
   "cell_type": "markdown",
   "metadata": {},
   "source": [
    "We see a tangetic relationship between calculated ratio and wind direction. Therefore, these two set of data (``ws, wd`` and ``u, v``) are redundunt. We need to see which one provides more information."
   ]
  },
  {
   "cell_type": "code",
   "execution_count": null,
   "metadata": {
    "collapsed": true
   },
   "outputs": [],
   "source": [
    "data_sample = wind.sample(10000)"
   ]
  },
  {
   "cell_type": "code",
   "execution_count": null,
   "metadata": {
    "collapsed": false
   },
   "outputs": [],
   "source": [
    "sns.regplot(x=\"ws\", y=\"power\", data=data_sample,\n",
    "scatter_kws={\"s\": 80, \"alpha\":0.009},order=3,truncate=True)\n",
    "plt.show()"
   ]
  },
  {
   "cell_type": "markdown",
   "metadata": {},
   "source": [
    "We know that wind speed has a third order relationship with wind power generated from the wind farms.\n",
    "This is also evident from the above relationship. Let's create a feature from cube of wind speed and wind power."
   ]
  },
  {
   "cell_type": "code",
   "execution_count": null,
   "metadata": {
    "collapsed": false
   },
   "outputs": [],
   "source": [
    "data_sample['speed_cube'] = data_sample['ws']**3\n",
    "sns.regplot(x=\"speed_cube\", y=\"power\", data=data_sample,\n",
    "scatter_kws={\"s\": 80, \"alpha\":0.009},truncate=True, robust=True)\n",
    "plt.xlabel('speed cube')\n",
    "plt.ylabel('power')\n",
    "plt.show()"
   ]
  },
  {
   "cell_type": "code",
   "execution_count": null,
   "metadata": {
    "collapsed": false
   },
   "outputs": [],
   "source": [
    "data_sample.speed_cube.corr(data_sample.power)**2"
   ]
  },
  {
   "cell_type": "markdown",
   "metadata": {},
   "source": [
    "We see that $43\\%$ of the variance is explained by wind speed cube. This is very good. Another observation is that the wind turbine has some limitations, and even in very high speed, it might no generate more than its rating power. Moreover, the correlation has low uncertainty below 10m/s. For that, lets create a new feature (below_10) to capture this uncertainty.\n",
    "\n",
    "Another observation is that sometimes in smaller speeds, the "
   ]
  },
  {
   "cell_type": "code",
   "execution_count": null,
   "metadata": {
    "collapsed": true
   },
   "outputs": [],
   "source": [
    "data_sample['below_10'] = data_sample.ws < 10"
   ]
  },
  {
   "cell_type": "code",
   "execution_count": null,
   "metadata": {
    "collapsed": false
   },
   "outputs": [],
   "source": [
    "sns.violinplot(x=\"below_10\", y=\"power\", data=data_sample)\n",
    "plt.show()"
   ]
  },
  {
   "cell_type": "markdown",
   "metadata": {},
   "source": [
    "They are visually from different populations and we can use them in our classification. However, if we are using tree based regressors, there is not need for such categorization.\n",
    "\n",
    "Another observation from power/speed_cube figure is that for some lower speed (<8m/s), the generated power reaches the rating power (0.8<power<1). This might be the results of forecasting error, or the wind direction. Let's get a boolean mask from this data and check the wind direction to see if it eefects it."
   ]
  },
  {
   "cell_type": "code",
   "execution_count": null,
   "metadata": {
    "collapsed": true
   },
   "outputs": [],
   "source": [
    "data_sample['high_power'] = (data_sample.ws<7) & (0.9<data_sample.power) & (data_sample.farm ==2)"
   ]
  },
  {
   "cell_type": "code",
   "execution_count": null,
   "metadata": {
    "collapsed": false
   },
   "outputs": [],
   "source": [
    "sns.boxplot(x=\"high_power\", y=\"wd\", data=data_sample.dropna())\n",
    "plt.show()"
   ]
  },
  {
   "cell_type": "markdown",
   "metadata": {},
   "source": [
    "We can further visualize the effect of wind direction, by keeping the wind speed almost constant and see the effect of wind direction on power. Before that, we need to visualize what wind speeds are dominant in each location. "
   ]
  },
  {
   "cell_type": "code",
   "execution_count": null,
   "metadata": {
    "collapsed": false
   },
   "outputs": [],
   "source": [
    "BM_const_power = (data_sample.farm ==2)\n",
    "data_cons_power = data_sample.loc[BM_const_power,['wd','power']]\n",
    "plt.scatter(data_cons_power.wd, data_cons_power.power, color='gold',alpha=0.08)\n",
    "plt.xlabel('wind direction')\n",
    "plt.ylabel('wind speed')\n",
    "plt.show()"
   ]
  },
  {
   "cell_type": "markdown",
   "metadata": {},
   "source": [
    "There seems to be three dominant wind directions, one around 20 degrees, the other around 120 decrees and last one aroun 330 degrees. Let's see, if we keep the effect of wind speed close to constant, how wind direction effect the wind power.From the figure we can see that in general, the wind direction of 330 degrees is stronger than the other two dominant speeds."
   ]
  },
  {
   "cell_type": "code",
   "execution_count": null,
   "metadata": {
    "collapsed": false
   },
   "outputs": [],
   "source": [
    "BM_const_power = (data_sample.farm ==2) &(data_sample.ws<7) &(data_sample.ws>6.8)\n",
    "data_cons_power = data_sample.loc[BM_const_power,['wd','power']]\n",
    "plt.scatter(data_cons_power.wd, data_cons_power.power, color='gold',alpha=0.5)\n",
    "plt.xlabel('Wind direction for constant wind speed')\n",
    "plt.ylabel('Wind power')\n",
    "plt.show()"
   ]
  },
  {
   "cell_type": "markdown",
   "metadata": {},
   "source": [
    "The wind direction has an obvios relationship with whether the power is too high. Therefore, we can exclude such information. For that, we need to get the median of the wind direction for each farm and calculated the difference away from that value. Another point, is that foreach farm, this value is differet (as probably each farm is located in different direction)."
   ]
  },
  {
   "cell_type": "code",
   "execution_count": null,
   "metadata": {
    "collapsed": true
   },
   "outputs": [],
   "source": [
    "def angle_diff(angle):\n",
    "    angle = angle % 360\n",
    "    if angle <180:\n",
    "        return angle\n",
    "    else:\n",
    "        return angle-180"
   ]
  },
  {
   "cell_type": "code",
   "execution_count": null,
   "metadata": {
    "collapsed": false
   },
   "outputs": [],
   "source": [
    "farm_dominant = dict()\n",
    "\n",
    "for farm in range(1,8):\n",
    "    boolean_mask = (data_sample.ws<7) & (0.9<data_sample.power) & (data_sample.farm ==farm)\n",
    "    series = data_sample.loc[boolean_mask].wd\n",
    "    farm_dominant[farm]= series.median()\n",
    "\n",
    "print(farm_dominant)"
   ]
  },
  {
   "cell_type": "code",
   "execution_count": null,
   "metadata": {
    "collapsed": true
   },
   "outputs": [],
   "source": [
    "data_sample['angle_diff'] = (data_sample.farm.replace(farm_dominant)-data_sample.wd).apply(angle_diff)"
   ]
  },
  {
   "cell_type": "code",
   "execution_count": null,
   "metadata": {
    "collapsed": false
   },
   "outputs": [],
   "source": [
    "data_sample.head()"
   ]
  },
  {
   "cell_type": "code",
   "execution_count": null,
   "metadata": {
    "collapsed": false
   },
   "outputs": [],
   "source": [
    "plt.scatter(data_sample.loc[data_sample.farm==2,'angle_diff' ],data_sample.loc[data_sample.farm==2,'power' ], color='darkorange',alpha=0.055)\n",
    "plt.xlabel('angle difference')\n",
    "plt.ylabel('power')\n",
    "plt.show()"
   ]
  },
  {
   "cell_type": "code",
   "execution_count": null,
   "metadata": {
    "collapsed": false
   },
   "outputs": [],
   "source": [
    "data_sample.loc[data_sample.farm==2,'angle_diff' ].corr(data_sample.loc[data_sample.farm==2,'power' ])"
   ]
  },
  {
   "cell_type": "markdown",
   "metadata": {},
   "source": [
    "After this calculation, we see that not a lot information is available inside wind direction. We wil put our focus on wind speed, its square, and its cube.\n",
    "\n",
    "### Feature cleaning, scaling, and data modelling:\n",
    "\n",
    "After doing a thorough analysis of the data and extracting meaningful features, let's clean the model and train a regressor."
   ]
  },
  {
   "cell_type": "code",
   "execution_count": null,
   "metadata": {
    "collapsed": false
   },
   "outputs": [],
   "source": [
    "whole_data.columns.values"
   ]
  },
  {
   "cell_type": "code",
   "execution_count": null,
   "metadata": {
    "collapsed": false
   },
   "outputs": [],
   "source": [
    "whole_data['ws2']= whole_data.ws ** 2\n",
    "whole_data['ws3'] = whole_data.ws ** 3\n",
    "whole_data.columns.values"
   ]
  },
  {
   "cell_type": "code",
   "execution_count": null,
   "metadata": {
    "collapsed": false
   },
   "outputs": [],
   "source": [
    "whole_data = whole_data.drop(axis = 1, columns = ['date','start'd,'u','v','turn','angle','wd_cut','w3p','set'])\n",
    "whole_data.head()"
   ]
  },
  {
   "cell_type": "code",
   "execution_count": null,
   "metadata": {
    "collapsed": false
   },
   "outputs": [],
   "source": [
    "data = whole_data.loc[~whole_data.power.isnull(),:]\n",
    "hold_out = whole_data.loc[whole_data.power.isnull(),:].drop(axis=1, columns='power')\n",
    "print(\"Hold out size is {:.2f} of the training dataset\".format(hold_out.shape[0]/data.shape[0]))"
   ]
  },
  {
   "cell_type": "code",
   "execution_count": null,
   "metadata": {
    "collapsed": false
   },
   "outputs": [],
   "source": [
    "data.dropna(inplace=True)"
   ]
  },
  {
   "cell_type": "markdown",
   "metadata": {},
   "source": [
    "### Train test split"
   ]
  },
  {
   "cell_type": "code",
   "execution_count": 511,
   "metadata": {
    "collapsed": true
   },
   "outputs": [],
   "source": [
    "y = data.power\n",
    "X = data.drop(axis=1, columns = 'power')\n",
    "X_train, X_test, y_train, y_test = train_test_split(\n",
    "    X, y, test_size=0.33, random_state=42)"
   ]
  },
  {
   "cell_type": "code",
   "execution_count": 513,
   "metadata": {
    "collapsed": false
   },
   "outputs": [
    {
     "data": {
      "text/plain": [
       "KNeighborsRegressor(algorithm='auto', leaf_size=30, metric='minkowski',\n",
       "          metric_params=None, n_jobs=1, n_neighbors=5, p=2,\n",
       "          weights='uniform')"
      ]
     },
     "execution_count": 513,
     "metadata": {},
     "output_type": "execute_result"
    }
   ],
   "source": [
    "neigh = KNeighborsRegressor()\n",
    "neigh.fit(X_train, y_train)"
   ]
  },
  {
   "cell_type": "code",
   "execution_count": 515,
   "metadata": {
    "collapsed": false
   },
   "outputs": [
    {
     "name": "stdout",
     "output_type": "stream",
     "text": [
      "Train adjuested R^2 is 0.9995534416607932\n",
      "Test adjuested R^2 is 0.9986410280687853\n"
     ]
    }
   ],
   "source": [
    "print(\"Train R^2 is {}\".format(neigh.score(X_train, y_train)))\n",
    "print(\"Test R^2 is {}\".format(neigh.score(X_test,y_test)))"
   ]
  },
  {
   "cell_type": "markdown",
   "metadata": {},
   "source": [
    "The model shows remarkable accuracy. Let's further prove that using k-fold cross validation."
   ]
  },
  {
   "cell_type": "code",
   "execution_count": 521,
   "metadata": {
    "collapsed": false
   },
   "outputs": [
    {
     "name": "stdout",
     "output_type": "stream",
     "text": [
      "[0.13998346 0.35993115 0.38433055 0.3506495  0.43475853]\n"
     ]
    }
   ],
   "source": [
    "negh2 = KNeighborsRegressor()\n",
    "scoring = ['explained_variance','r2', 'neg_mean_squared_error']\n",
    "cv_results = cross_val_score(negh2, X, y, cv=5,scoring = 'explained_variance')\n",
    "print(cv_results)"
   ]
  },
  {
   "cell_type": "code",
   "execution_count": 522,
   "metadata": {
    "collapsed": false
   },
   "outputs": [
    {
     "name": "stdout",
     "output_type": "stream",
     "text": [
      "[0.13609758 0.35523629 0.38386206 0.34924181 0.3962556 ]\n"
     ]
    }
   ],
   "source": [
    "scoring = ['explained_variance','r2', 'neg_mean_squared_error']\n",
    "cv_results = cross_val_score(negh2, X, y, cv=5,scoring = 'r2')\n",
    "print(cv_results)"
   ]
  },
  {
   "cell_type": "code",
   "execution_count": 523,
   "metadata": {
    "collapsed": false
   },
   "outputs": [
    {
     "name": "stdout",
     "output_type": "stream",
     "text": [
      "0.32413866921353457\n"
     ]
    }
   ],
   "source": [
    "print(np.mean(cv_results))"
   ]
  },
  {
   "cell_type": "markdown",
   "metadata": {},
   "source": [
    "Using the available data sets, up to 33% of the total variance in the output power is explanied.\n",
    "We need more information for explaining the rest of the variance."
   ]
  },
  {
   "cell_type": "code",
   "execution_count": null,
   "metadata": {
    "collapsed": true
   },
   "outputs": [],
   "source": []
  }
 ],
 "metadata": {
  "kernelspec": {
   "display_name": "Python 3",
   "language": "python",
   "name": "python3"
  },
  "language_info": {
   "codemirror_mode": {
    "name": "ipython",
    "version": 3
   },
   "file_extension": ".py",
   "mimetype": "text/x-python",
   "name": "python",
   "nbconvert_exporter": "python",
   "pygments_lexer": "ipython3",
   "version": "3.6.0"
  }
 },
 "nbformat": 4,
 "nbformat_minor": 2
}
